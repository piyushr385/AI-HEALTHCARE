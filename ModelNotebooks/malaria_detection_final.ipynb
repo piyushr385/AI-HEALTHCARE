{
 "cells": [
  {
   "cell_type": "code",
   "execution_count": 9,
   "metadata": {
    "id": "DGXn3AhfqWSc"
   },
   "outputs": [],
   "source": [
    "import tensorflow as tf\n",
    "from tensorflow.keras import Sequential\n",
    "from tensorflow.keras.layers import Flatten, Dense, Conv2D, MaxPooling2D, Dropout\n",
    "\n",
    "from tensorflow.keras.preprocessing.image import ImageDataGenerator\n",
    "\n",
    "import numpy as np\n",
    "import matplotlib.pyplot as plt"
   ]
  },
  {
   "cell_type": "code",
   "execution_count": 2,
   "metadata": {
    "colab": {
     "base_uri": "https://localhost:8080/"
    },
    "id": "7pyvINXJqfRP",
    "outputId": "a037fba3-86d6-4b4c-d111-82b8bff47c7b"
   },
   "outputs": [
    {
     "name": "stdout",
     "output_type": "stream",
     "text": [
      "Cloning into 'Malaria-Classification-Using-CNN'...\n",
      "remote: Enumerating objects: 27577, done.\u001b[K\n",
      "remote: Total 27577 (delta 0), reused 0 (delta 0), pack-reused 27577\u001b[K\n",
      "Receiving objects: 100% (27577/27577), 331.67 MiB | 51.61 MiB/s, done.\n",
      "Resolving deltas: 100% (3/3), done.\n",
      "Checking out files: 100% (27562/27562), done.\n"
     ]
    }
   ],
   "source": [
    "!git clone https://github.com/laxmimerit/Malaria-Classification-Using-CNN.git"
   ]
  },
  {
   "cell_type": "code",
   "execution_count": 3,
   "metadata": {
    "id": "N4FfdrGcqhl9"
   },
   "outputs": [],
   "source": [
    "img_width = 64\n",
    "img_height = 64"
   ]
  },
  {
   "cell_type": "code",
   "execution_count": 4,
   "metadata": {
    "id": "ZTWQT2CwqjVI"
   },
   "outputs": [],
   "source": [
    "datagen = ImageDataGenerator(rescale=1/255.0, validation_split=0.2)"
   ]
  },
  {
   "cell_type": "code",
   "execution_count": 5,
   "metadata": {
    "colab": {
     "base_uri": "https://localhost:8080/"
    },
    "id": "8fyRMR2iqlC2",
    "outputId": "e3abbe50-da45-49b5-88df-0e4c04a4787a"
   },
   "outputs": [
    {
     "name": "stdout",
     "output_type": "stream",
     "text": [
      "Found 22048 images belonging to 2 classes.\n"
     ]
    }
   ],
   "source": [
    "train_data_generator = datagen.flow_from_directory(directory='/content/Malaria-Classification-Using-CNN/malaria-dataset',\n",
    "                                                   target_size = (img_width, img_height),\n",
    "                                                   class_mode = 'binary',\n",
    "                                                   batch_size = 16,\n",
    "                                                   subset = 'training'\n",
    "                                                   )"
   ]
  },
  {
   "cell_type": "code",
   "execution_count": 6,
   "metadata": {
    "colab": {
     "base_uri": "https://localhost:8080/"
    },
    "id": "TcoZNSyrqnbb",
    "outputId": "18a04df2-f218-4e15-c9e6-0df85be716ed"
   },
   "outputs": [
    {
     "name": "stdout",
     "output_type": "stream",
     "text": [
      "Found 5510 images belonging to 2 classes.\n"
     ]
    }
   ],
   "source": [
    "validation_data_generator = datagen.flow_from_directory(directory='/content/Malaria-Classification-Using-CNN/malaria-dataset',\n",
    "                                                   target_size = (img_width, img_height),\n",
    "                                                   class_mode = 'binary',\n",
    "                                                   batch_size = 16,\n",
    "                                                   subset = 'validation'\n",
    "                                                   )"
   ]
  },
  {
   "cell_type": "code",
   "execution_count": 7,
   "metadata": {
    "colab": {
     "base_uri": "https://localhost:8080/"
    },
    "id": "HgK0s95GqqJf",
    "outputId": "78acbd1a-1892-4b5d-9ce6-49aa677465e8"
   },
   "outputs": [
    {
     "data": {
      "text/plain": [
       "array([0, 0, 0, ..., 1, 1, 1], dtype=int32)"
      ]
     },
     "execution_count": 7,
     "metadata": {
      "tags": []
     },
     "output_type": "execute_result"
    }
   ],
   "source": [
    "train_data_generator.labels"
   ]
  },
  {
   "cell_type": "code",
   "execution_count": 14,
   "metadata": {
    "colab": {
     "base_uri": "https://localhost:8080/"
    },
    "id": "9W2-_JDvqrzk",
    "outputId": "f12306d0-a2c3-4883-bb4b-c2b1a5f98224"
   },
   "outputs": [
    {
     "name": "stdout",
     "output_type": "stream",
     "text": [
      "Model: \"sequential_2\"\n",
      "_________________________________________________________________\n",
      "Layer (type)                 Output Shape              Param #   \n",
      "=================================================================\n",
      "conv2d_4 (Conv2D)            (None, 224, 224, 16)      208       \n",
      "_________________________________________________________________\n",
      "max_pooling2d_3 (MaxPooling2 (None, 112, 112, 16)      0         \n",
      "_________________________________________________________________\n",
      "conv2d_5 (Conv2D)            (None, 112, 112, 32)      2080      \n",
      "_________________________________________________________________\n",
      "max_pooling2d_4 (MaxPooling2 (None, 56, 56, 32)        0         \n",
      "_________________________________________________________________\n",
      "dropout_3 (Dropout)          (None, 56, 56, 32)        0         \n",
      "_________________________________________________________________\n",
      "conv2d_6 (Conv2D)            (None, 56, 56, 64)        8256      \n",
      "_________________________________________________________________\n",
      "max_pooling2d_5 (MaxPooling2 (None, 28, 28, 64)        0         \n",
      "_________________________________________________________________\n",
      "dropout_4 (Dropout)          (None, 28, 28, 64)        0         \n",
      "_________________________________________________________________\n",
      "flatten_1 (Flatten)          (None, 50176)             0         \n",
      "_________________________________________________________________\n",
      "dense_2 (Dense)              (None, 500)               25088500  \n",
      "_________________________________________________________________\n",
      "dropout_5 (Dropout)          (None, 500)               0         \n",
      "_________________________________________________________________\n",
      "dense_3 (Dense)              (None, 1)                 501       \n",
      "=================================================================\n",
      "Total params: 25,099,545\n",
      "Trainable params: 25,099,545\n",
      "Non-trainable params: 0\n",
      "_________________________________________________________________\n"
     ]
    }
   ],
   "source": [
    "model = Sequential()\n",
    "\n",
    "model.add(Conv2D(16, (3,3), input_shape = (img_width, img_height, 3), activation='relu'))\n",
    "model.add(MaxPool2D(2,2))\n",
    "model.add(Dropout(0.2))\n",
    "\n",
    "model.add(Conv2D(32, (3,3), activation='relu'))\n",
    "model.add(MaxPool2D(2,2))\n",
    "model.add(Dropout(0.3))\n",
    "\n",
    "model.add(Flatten())\n",
    "model.add(Dense(64, activation='relu'))\n",
    "model.add(Dropout(0.5))\n",
    "\n",
    "model.add(Dense(1, activation='sigmoid'))"
   ]
  },
  {
   "cell_type": "code",
   "execution_count": 18,
   "metadata": {
    "colab": {
     "base_uri": "https://localhost:8080/"
    },
    "id": "5IEAuObcBJ82",
    "outputId": "d732229f-11f4-43d9-c277-ceef1ad6a4b3"
   },
   "outputs": [
    {
     "name": "stdout",
     "output_type": "stream",
     "text": [
      "Model: \"sequential_3\"\n",
      "_________________________________________________________________\n",
      "Layer (type)                 Output Shape              Param #   \n",
      "=================================================================\n",
      "conv2d_7 (Conv2D)            (None, 64, 64, 16)        208       \n",
      "_________________________________________________________________\n",
      "max_pooling2d_6 (MaxPooling2 (None, 32, 32, 16)        0         \n",
      "_________________________________________________________________\n",
      "conv2d_8 (Conv2D)            (None, 32, 32, 32)        2080      \n",
      "_________________________________________________________________\n",
      "max_pooling2d_7 (MaxPooling2 (None, 16, 16, 32)        0         \n",
      "_________________________________________________________________\n",
      "dropout_6 (Dropout)          (None, 16, 16, 32)        0         \n",
      "_________________________________________________________________\n",
      "conv2d_9 (Conv2D)            (None, 16, 16, 64)        8256      \n",
      "_________________________________________________________________\n",
      "max_pooling2d_8 (MaxPooling2 (None, 8, 8, 64)          0         \n",
      "_________________________________________________________________\n",
      "dropout_7 (Dropout)          (None, 8, 8, 64)          0         \n",
      "_________________________________________________________________\n",
      "flatten_2 (Flatten)          (None, 4096)              0         \n",
      "_________________________________________________________________\n",
      "dense_4 (Dense)              (None, 500)               2048500   \n",
      "_________________________________________________________________\n",
      "dropout_8 (Dropout)          (None, 500)               0         \n",
      "_________________________________________________________________\n",
      "dense_5 (Dense)              (None, 1)                 501       \n",
      "=================================================================\n",
      "Total params: 2,059,545\n",
      "Trainable params: 2,059,545\n",
      "Non-trainable params: 0\n",
      "_________________________________________________________________\n"
     ]
    }
   ],
   "source": [
    "model=Sequential()\n",
    "model.add(Conv2D(filters=16,kernel_size=2,padding=\"same\",activation=\"relu\",input_shape=(img_width, img_height, 3)))\n",
    "model.add(MaxPooling2D(pool_size=2))\n",
    "model.add(Conv2D(filters=32,kernel_size=2,padding=\"same\",activation =\"relu\"))\n",
    "model.add(MaxPooling2D(pool_size=2))\n",
    "model.add(Dropout(0.2))\n",
    "model.add(Conv2D(filters=64,kernel_size=2,padding=\"same\",activation=\"relu\"))\n",
    "model.add(MaxPooling2D(pool_size=2))\n",
    "model.add(Dropout(0.3))\n",
    "model.add(Flatten())\n",
    "model.add(Dense(500,activation=\"relu\"))\n",
    "model.add(Dropout(0.5))\n",
    "model.add(Dense(1,activation=\"sigmoid\"))\n",
    "model.summary()"
   ]
  },
  {
   "cell_type": "code",
   "execution_count": 19,
   "metadata": {
    "colab": {
     "base_uri": "https://localhost:8080/"
    },
    "id": "A0_JG9dGquGp",
    "outputId": "12a31b2a-4e19-4365-e710-56622681726b"
   },
   "outputs": [
    {
     "name": "stdout",
     "output_type": "stream",
     "text": [
      "Model: \"sequential_3\"\n",
      "_________________________________________________________________\n",
      "Layer (type)                 Output Shape              Param #   \n",
      "=================================================================\n",
      "conv2d_7 (Conv2D)            (None, 64, 64, 16)        208       \n",
      "_________________________________________________________________\n",
      "max_pooling2d_6 (MaxPooling2 (None, 32, 32, 16)        0         \n",
      "_________________________________________________________________\n",
      "conv2d_8 (Conv2D)            (None, 32, 32, 32)        2080      \n",
      "_________________________________________________________________\n",
      "max_pooling2d_7 (MaxPooling2 (None, 16, 16, 32)        0         \n",
      "_________________________________________________________________\n",
      "dropout_6 (Dropout)          (None, 16, 16, 32)        0         \n",
      "_________________________________________________________________\n",
      "conv2d_9 (Conv2D)            (None, 16, 16, 64)        8256      \n",
      "_________________________________________________________________\n",
      "max_pooling2d_8 (MaxPooling2 (None, 8, 8, 64)          0         \n",
      "_________________________________________________________________\n",
      "dropout_7 (Dropout)          (None, 8, 8, 64)          0         \n",
      "_________________________________________________________________\n",
      "flatten_2 (Flatten)          (None, 4096)              0         \n",
      "_________________________________________________________________\n",
      "dense_4 (Dense)              (None, 500)               2048500   \n",
      "_________________________________________________________________\n",
      "dropout_8 (Dropout)          (None, 500)               0         \n",
      "_________________________________________________________________\n",
      "dense_5 (Dense)              (None, 1)                 501       \n",
      "=================================================================\n",
      "Total params: 2,059,545\n",
      "Trainable params: 2,059,545\n",
      "Non-trainable params: 0\n",
      "_________________________________________________________________\n"
     ]
    }
   ],
   "source": [
    "model.summary()"
   ]
  },
  {
   "cell_type": "code",
   "execution_count": 20,
   "metadata": {
    "id": "EpdttB-4qv4O"
   },
   "outputs": [],
   "source": [
    "model.compile(optimizer='adam', loss='binary_crossentropy', metrics = ['accuracy'])"
   ]
  },
  {
   "cell_type": "code",
   "execution_count": 21,
   "metadata": {
    "colab": {
     "base_uri": "https://localhost:8080/"
    },
    "id": "yhj-7SCxqx8O",
    "outputId": "565b3cb4-aec1-4c00-c18a-815600626812"
   },
   "outputs": [
    {
     "name": "stderr",
     "output_type": "stream",
     "text": [
      "/usr/local/lib/python3.6/dist-packages/tensorflow/python/keras/engine/training.py:1844: UserWarning: `Model.fit_generator` is deprecated and will be removed in a future version. Please use `Model.fit`, which supports generators.\n",
      "  warnings.warn('`Model.fit_generator` is deprecated and '\n"
     ]
    },
    {
     "name": "stdout",
     "output_type": "stream",
     "text": [
      "Epoch 1/15\n",
      "1378/1378 [==============================] - 29s 21ms/step - loss: 0.5660 - accuracy: 0.6863 - val_loss: 0.1812 - val_accuracy: 0.9445\n",
      "Epoch 2/15\n",
      "1378/1378 [==============================] - 28s 20ms/step - loss: 0.1791 - accuracy: 0.9442 - val_loss: 0.2107 - val_accuracy: 0.9323\n",
      "Epoch 3/15\n",
      "1378/1378 [==============================] - 27s 20ms/step - loss: 0.1517 - accuracy: 0.9538 - val_loss: 0.1693 - val_accuracy: 0.9414\n",
      "Epoch 4/15\n",
      "1378/1378 [==============================] - 28s 20ms/step - loss: 0.1455 - accuracy: 0.9551 - val_loss: 0.1936 - val_accuracy: 0.9367\n",
      "Epoch 5/15\n",
      "1378/1378 [==============================] - 27s 20ms/step - loss: 0.1347 - accuracy: 0.9593 - val_loss: 0.1780 - val_accuracy: 0.9426\n",
      "Epoch 6/15\n",
      "1378/1378 [==============================] - 28s 21ms/step - loss: 0.1375 - accuracy: 0.9573 - val_loss: 0.1656 - val_accuracy: 0.9465\n",
      "Epoch 7/15\n",
      "1378/1378 [==============================] - 28s 20ms/step - loss: 0.1187 - accuracy: 0.9630 - val_loss: 0.1974 - val_accuracy: 0.9403\n",
      "Epoch 8/15\n",
      "1378/1378 [==============================] - 28s 20ms/step - loss: 0.1206 - accuracy: 0.9608 - val_loss: 0.1892 - val_accuracy: 0.9414\n",
      "Epoch 9/15\n",
      "1378/1378 [==============================] - 28s 20ms/step - loss: 0.1265 - accuracy: 0.9587 - val_loss: 0.1829 - val_accuracy: 0.9425\n",
      "Epoch 10/15\n",
      "1378/1378 [==============================] - 28s 20ms/step - loss: 0.1168 - accuracy: 0.9619 - val_loss: 0.1645 - val_accuracy: 0.9479\n",
      "Epoch 11/15\n",
      "1378/1378 [==============================] - 28s 20ms/step - loss: 0.1199 - accuracy: 0.9601 - val_loss: 0.1665 - val_accuracy: 0.9472\n",
      "Epoch 12/15\n",
      "1378/1378 [==============================] - 28s 20ms/step - loss: 0.1129 - accuracy: 0.9621 - val_loss: 0.1844 - val_accuracy: 0.9428\n",
      "Epoch 13/15\n",
      "1378/1378 [==============================] - 28s 20ms/step - loss: 0.1055 - accuracy: 0.9626 - val_loss: 0.1881 - val_accuracy: 0.9434\n",
      "Epoch 14/15\n",
      "1378/1378 [==============================] - 27s 20ms/step - loss: 0.1082 - accuracy: 0.9610 - val_loss: 0.1782 - val_accuracy: 0.9461\n",
      "Epoch 15/15\n",
      "1378/1378 [==============================] - 28s 20ms/step - loss: 0.1006 - accuracy: 0.9651 - val_loss: 0.1881 - val_accuracy: 0.9405\n"
     ]
    }
   ],
   "source": [
    "history = model.fit_generator(generator=train_data_generator,\n",
    "                              steps_per_epoch = len(train_data_generator),\n",
    "                              epochs = 15,\n",
    "                              validation_data = validation_data_generator,\n",
    "                              validation_steps = len(validation_data_generator))"
   ]
  },
  {
   "cell_type": "code",
   "execution_count": 22,
   "metadata": {
    "colab": {
     "base_uri": "https://localhost:8080/"
    },
    "id": "ovzY_Q-aq0kN",
    "outputId": "769027cd-2349-46c5-baae-dbcdbaed1891"
   },
   "outputs": [
    {
     "data": {
      "text/plain": [
       "{'accuracy': [0.8071026802062988,\n",
       "  0.9472060799598694,\n",
       "  0.953374445438385,\n",
       "  0.956549346446991,\n",
       "  0.958136796951294,\n",
       "  0.9579553604125977,\n",
       "  0.9603138566017151,\n",
       "  0.9596335291862488,\n",
       "  0.9608581066131592,\n",
       "  0.9619920253753662,\n",
       "  0.9622188210487366,\n",
       "  0.9624909162521362,\n",
       "  0.9635794758796692,\n",
       "  0.9633526802062988,\n",
       "  0.9631712436676025],\n",
       " 'loss': [0.4054485261440277,\n",
       "  0.17213983833789825,\n",
       "  0.15284554660320282,\n",
       "  0.14263130724430084,\n",
       "  0.1358691304922104,\n",
       "  0.13224129378795624,\n",
       "  0.12612895667552948,\n",
       "  0.12294716387987137,\n",
       "  0.12112800031900406,\n",
       "  0.11775022745132446,\n",
       "  0.1143183708190918,\n",
       "  0.11243338882923126,\n",
       "  0.10748554766178131,\n",
       "  0.10551059246063232,\n",
       "  0.105760358273983],\n",
       " 'val_accuracy': [0.9444646239280701,\n",
       "  0.9323049187660217,\n",
       "  0.9413793087005615,\n",
       "  0.9366605877876282,\n",
       "  0.9426497220993042,\n",
       "  0.9464609622955322,\n",
       "  0.9402903914451599,\n",
       "  0.9413793087005615,\n",
       "  0.9424682259559631,\n",
       "  0.947912871837616,\n",
       "  0.9471869468688965,\n",
       "  0.9428312182426453,\n",
       "  0.9433757066726685,\n",
       "  0.9460980296134949,\n",
       "  0.940471887588501],\n",
       " 'val_loss': [0.18121014535427094,\n",
       "  0.21074479818344116,\n",
       "  0.16931617259979248,\n",
       "  0.19355104863643646,\n",
       "  0.1779646873474121,\n",
       "  0.1656372845172882,\n",
       "  0.19735974073410034,\n",
       "  0.18924163281917572,\n",
       "  0.18286143243312836,\n",
       "  0.16445498168468475,\n",
       "  0.16651152074337006,\n",
       "  0.18444545567035675,\n",
       "  0.18814456462860107,\n",
       "  0.17817282676696777,\n",
       "  0.18810789287090302]}"
      ]
     },
     "execution_count": 22,
     "metadata": {
      "tags": []
     },
     "output_type": "execute_result"
    }
   ],
   "source": [
    "history.history"
   ]
  },
  {
   "cell_type": "code",
   "execution_count": 23,
   "metadata": {
    "id": "IJoPqqVbq30N"
   },
   "outputs": [],
   "source": [
    "def plot_learningCurve(history, epoch):\n",
    "  # Plot training & validation accuracy values\n",
    "  epoch_range = range(1, epoch+1)\n",
    "  plt.plot(epoch_range, history.history['accuracy'])\n",
    "  plt.plot(epoch_range, history.history['val_accuracy'])\n",
    "  plt.title('Model accuracy')\n",
    "  plt.ylabel('Accuracy')\n",
    "  plt.xlabel('Epoch')\n",
    "  plt.legend(['Train', 'Val'], loc='upper left')\n",
    "  plt.show()\n",
    "\n",
    "  # Plot training & validation loss values\n",
    "  plt.plot(epoch_range, history.history['loss'])\n",
    "  plt.plot(epoch_range, history.history['val_loss'])\n",
    "  plt.title('Model loss')\n",
    "  plt.ylabel('Loss')\n",
    "  plt.xlabel('Epoch')\n",
    "  plt.legend(['Train', 'Val'], loc='upper left')\n",
    "  plt.show()"
   ]
  },
  {
   "cell_type": "code",
   "execution_count": 24,
   "metadata": {
    "colab": {
     "base_uri": "https://localhost:8080/",
     "height": 530
    },
    "id": "PoqwbrcNq5xf",
    "outputId": "7b2303c3-c48f-4363-ed2b-cfc47e090b0c"
   },
   "outputs": [
    {
     "data": {
      "image/png": "[encoded data removed]",
      "text/plain": [
       "<Figure size 432x288 with 1 Axes>"
      ]
     },
     "metadata": {
      "needs_background": "light",
      "tags": []
     },
     "output_type": "display_data"
    },
    {
     "data": {
      "image/png": "[encoded data removed]",
      "text/plain": [
       "<Figure size 432x288 with 1 Axes>"
      ]
     },
     "metadata": {
      "needs_background": "light",
      "tags": []
     },
     "output_type": "display_data"
    },
    {
     "data": {
      "text/plain": [
       "<Figure size 432x288 with 0 Axes>"
      ]
     },
     "metadata": {
      "tags": []
     },
     "output_type": "display_data"
    }
   ],
   "source": [
    "# plot the loss\n",
    "plt.plot(history.history['loss'], label='train loss')\n",
    "plt.plot(history.history['val_loss'], label='val loss')\n",
    "plt.legend()\n",
    "plt.show()\n",
    "plt.savefig('LossVal_loss')\n",
    "\n",
    "# plot the accuracy\n",
    "plt.plot(history.history['accuracy'], label='train acc')\n",
    "plt.plot(history.history['val_accuracy'], label='val acc')\n",
    "plt.legend()\n",
    "plt.show()\n",
    "plt.savefig('AccVal_acc')"
   ]
  },
  {
   "cell_type": "code",
   "execution_count": 26,
   "metadata": {
    "id": "o88mFk0Pq7mZ"
   },
   "outputs": [],
   "source": [
    "from tensorflow.keras.models import load_model\n",
    "\n",
    "model.save('model_malaria.h5')"
   ]
  },
  {
   "cell_type": "code",
   "execution_count": 27,
   "metadata": {
    "id": "x7VlQ7USDr4J"
   },
   "outputs": [],
   "source": [
    "from tensorflow.keras.models import load_model\n",
    "from tensorflow.keras.preprocessing import image\n",
    "model=load_model('model_malaria.h5')"
   ]
  },
  {
   "cell_type": "code",
   "execution_count": 29,
   "metadata": {
    "colab": {
     "base_uri": "https://localhost:8080/"
    },
    "id": "rpdC4HWOEFUT",
    "outputId": "669f5f44-53d5-4392-df79-e89ad8891b1a"
   },
   "outputs": [
    {
     "name": "stdout",
     "output_type": "stream",
     "text": [
      "prediction = Uninfected\n"
     ]
    }
   ],
   "source": [
    "import numpy as np\n",
    "from keras.preprocessing import image\n",
    "test_image = image.load_img('/content/Malaria-Classification-Using-CNN/malaria-dataset/Uninfected/C100P61ThinF_IMG_20150918_144104_cell_128.png', target_size = (64, 64))\n",
    "test_image = image.img_to_array(test_image)\n",
    "test_image = np.expand_dims(test_image, axis = 0)\n",
    "result = model.predict(test_image)\n",
    "train_data_generator.class_indices\n",
    "if result[0][0] == 0:\n",
    "   print(\"prediction = Parasitized\")\n",
    "else:\n",
    "    print(\"prediction = Uninfected\")"
   ]
  }
 ],
 "metadata": {
  "accelerator": "GPU",
  "colab": {
   "name": "malaria-detection_final.ipynb",
   "provenance": []
  },
  "kernelspec": {
   "display_name": "Python 3",
   "language": "python",
   "name": "python3"
  },
  "language_info": {
   "codemirror_mode": {
    "name": "ipython",
    "version": 3
   },
   "file_extension": ".py",
   "mimetype": "text/x-python",
   "name": "python",
   "nbconvert_exporter": "python",
   "pygments_lexer": "ipython3",
   "version": "3.7.4"
  }
 },
 "nbformat": 4,
 "nbformat_minor": 1
}
